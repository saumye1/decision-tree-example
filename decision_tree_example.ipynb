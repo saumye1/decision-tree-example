{
 "cells": [
  {
   "cell_type": "code",
   "execution_count": 1,
   "metadata": {},
   "outputs": [],
   "source": [
    "import pandas as pd\n",
    "import plotly_express as px\n",
    "import numpy as np"
   ]
  },
  {
   "cell_type": "code",
   "execution_count": 8,
   "metadata": {},
   "outputs": [
    {
     "name": "stdout",
     "output_type": "stream",
     "text": [
      "     Outlook Temperature Humidity    Wind Play Tennis\n",
      "0      Sunny         Hot     High    Weak          No\n",
      "1      Sunny         Hot     High  Strong          No\n",
      "2   Overcast         Hot     High    Weak         Yes\n",
      "3       Rain        Mild     High    Weak         Yes\n",
      "4       Rain        Cool   Normal    Weak         Yes\n",
      "5       Rain        Cool   Normal  Strong          No\n",
      "6   Overcast        Cool   Normal    Weak         Yes\n",
      "7      Sunny        Mild     High    Weak          No\n",
      "8      Sunny        Cool   Normal    Weak         Yes\n",
      "9       Rain        Mild   Normal  Strong         Yes\n",
      "10     Sunny        Mild   Normal  Strong         Yes\n",
      "11  Overcast        Mild     High  Strong         Yes\n",
      "12  Overcast         Hot   Normal    Weak         Yes\n",
      "13      Rain        Mild     High  Strong          No\n"
     ]
    }
   ],
   "source": [
    "raw_data = pd.read_csv('./decision_tree_example_data.csv')\n",
    "print(raw_data)"
   ]
  },
  {
   "cell_type": "code",
   "execution_count": 42,
   "metadata": {},
   "outputs": [
    {
     "data": {
      "text/plain": [
       "array(['Cool', 'Hot', 'Mild'], dtype=object)"
      ]
     },
     "execution_count": 42,
     "metadata": {},
     "output_type": "execute_result"
    }
   ],
   "source": [
    "# raw_data[raw_data['Outlook'] == 'Sunny']\n",
    "idx = raw_data['Outlook'] == 'Sunny'\n",
    "raw_data[idx].groupby(raw_data[idx]['Temperature']).count().index.values"
   ]
  },
  {
   "cell_type": "code",
   "execution_count": 27,
   "metadata": {},
   "outputs": [
    {
     "data": {
      "text/plain": [
       "0.9402859586706309"
      ]
     },
     "execution_count": 27,
     "metadata": {},
     "output_type": "execute_result"
    }
   ],
   "source": [
    "disc_count = raw_data['Play Tennis'].groupby(raw_data['Play Tennis']).count().values\n",
    "disc_count/sum(disc_count)\n",
    "entropy_arr = (-1 * (disc_count/sum(disc_count)) * np.log(disc_count/sum(disc_count)))/np.log(2)\n",
    "sum(entropy_arr)"
   ]
  },
  {
   "cell_type": "code",
   "execution_count": 28,
   "metadata": {},
   "outputs": [],
   "source": [
    "def entropy(raw_data, target_var_name='Play Tennis'):\n",
    "    disc_count = raw_data[target_var_name].groupby(raw_data[target_var_name]).count().values\n",
    "    entropy_arr = (-1 * (disc_count/sum(disc_count)) * np.log(disc_count/sum(disc_count)))/np.log(2)\n",
    "    return sum(entropy_arr)"
   ]
  },
  {
   "cell_type": "code",
   "execution_count": 43,
   "metadata": {},
   "outputs": [
    {
     "data": {
      "text/plain": [
       "0"
      ]
     },
     "execution_count": 43,
     "metadata": {},
     "output_type": "execute_result"
    }
   ],
   "source": [
    "entropy(raw_data[raw_data[attrib] == 'Rain'])"
   ]
  },
  {
   "cell_type": "code",
   "execution_count": 46,
   "metadata": {},
   "outputs": [
    {
     "data": {
      "text/plain": [
       "['Sunny', 'Overcast', 'Rain']"
      ]
     },
     "execution_count": 46,
     "metadata": {},
     "output_type": "execute_result"
    }
   ],
   "source": [
    "raw_data['Outlook'].unique().tolist()"
   ]
  },
  {
   "cell_type": "code",
   "execution_count": 55,
   "metadata": {},
   "outputs": [],
   "source": [
    "def information_gain_by_attrib(raw_data, attrib='Outlook', target_var_name='Play Tennis'):\n",
    "    entropy_value_wise = []\n",
    "    length_value_wise = []\n",
    "    parent_entropy = entropy(raw_data, target_var_name)\n",
    "    for attrib_value in raw_data[attrib].unique():\n",
    "        filtered_df = raw_data[raw_data[attrib] == str(attrib_value)]\n",
    "        entropy_value_wise.append(entropy(filtered_df, target_var_name))\n",
    "        length_value_wise.append(len(filtered_df))\n",
    "    return parent_entropy - np.sum(np.array(length_value_wise) / sum(length_value_wise) * np.array(entropy_value_wise))"
   ]
  },
  {
   "cell_type": "code",
   "execution_count": 67,
   "metadata": {},
   "outputs": [
    {
     "data": {
      "text/plain": [
       "array(['Sunny', 'Overcast', 'Rain'], dtype=object)"
      ]
     },
     "execution_count": 67,
     "metadata": {},
     "output_type": "execute_result"
    }
   ],
   "source": [
    "information_gain_by_attrib(raw_data, 'Outlook')\n",
    "raw_data['Outlook'].unique()"
   ]
  },
  {
   "cell_type": "code",
   "execution_count": 129,
   "metadata": {},
   "outputs": [],
   "source": [
    "decision_tree = {}\n",
    "visited = [False]*(len(raw_data.columns))\n",
    "def build_decision_tree(raw_data, parent='', parent_branch='', visited=[False]*(len(raw_data.columns)), target_var_name='Play Tennis'):\n",
    "    max_inf_gain = -1\n",
    "    max_inf_gain_column = ''\n",
    "    max_inf_gain_column_idx = 0\n",
    "    for i, column in enumerate(raw_data.columns.values):\n",
    "        if not visited[i] and column != target_var_name:\n",
    "            inf_gain = information_gain_by_attrib(raw_data, column, target_var_name)\n",
    "            if inf_gain > max_inf_gain:\n",
    "                max_inf_gain = inf_gain\n",
    "                max_inf_gain_column = column\n",
    "                max_inf_gain_column_idx = i\n",
    "    print(f'max_ig_column = {max_inf_gain_column}, parent = {parent}, branch = {parent_branch}, max_ig = {round(max_inf_gain,2)}, visited = {visited}')\n",
    "    if not decision_tree.get(parent) and parent != '':\n",
    "        decision_tree[parent] = []\n",
    "    if parent_branch in [edge.get('branch_name') for edge in decision_tree.get(parent, []) if parent != '']:\n",
    "        branch_idx = [edge.get('branch_name') for edge in decision_tree[parent]].index(parent_branch)\n",
    "    else:\n",
    "        branch_idx = -1\n",
    "    if branch_idx >= 0:\n",
    "        decision_tree[parent][branch_idx]['leads_to'] = max_inf_gain_column\n",
    "    if max_inf_gain <= 0:\n",
    "        #leaf node to be pushed in parent, if not parent, set root equal to max_inf_gain_column \n",
    "        #and parent array in decision tree\n",
    "        if not parent:\n",
    "            print('Empty decision tree, i.e, the data has zero entropy(uncertainity)')\n",
    "            return\n",
    "        if branch_idx >= 0:\n",
    "            #write result\n",
    "            decision_tree[parent][branch_idx]['result'] = raw_data[target_var_name].values[0]\n",
    "        else:\n",
    "            decision_tree[parent].append({'branch_name': parent_branch, 'result': str(raw_data[target_var_name].values[0]), 'parent': parent})\n",
    "        return\n",
    "    for disc_value in raw_data[max_inf_gain_column].unique():\n",
    "        visited[max_inf_gain_column_idx] = True\n",
    "        if disc_value in [edge.get('branch_name') for edge in decision_tree.get(max_inf_gain_column, [])]:\n",
    "            continue\n",
    "        if not decision_tree.get(max_inf_gain_column):\n",
    "            decision_tree[max_inf_gain_column] = []\n",
    "        decision_tree[max_inf_gain_column].append({'branch_name': disc_value, 'result': None, 'parent': max_inf_gain_column})\n",
    "        build_decision_tree(raw_data[raw_data[max_inf_gain_column]==disc_value], \n",
    "                            parent=max_inf_gain_column,parent_branch=disc_value,\n",
    "                            visited=visited,target_var_name=target_var_name)\n",
    "        visited[max_inf_gain_column_idx] = False\n",
    "        "
   ]
  },
  {
   "cell_type": "code",
   "execution_count": 130,
   "metadata": {},
   "outputs": [
    {
     "name": "stdout",
     "output_type": "stream",
     "text": [
      "max_ig_column = Outlook, parent = , branch = , max_ig = 0.25, visited = [False, False, False, False, False]\n",
      "max_ig_column = Humidity, parent = Outlook, branch = Sunny, max_ig = 0.97, visited = [True, False, False, False, False]\n",
      "max_ig_column = Temperature, parent = Humidity, branch = High, max_ig = 0.0, visited = [True, False, True, False, False]\n",
      "max_ig_column = Temperature, parent = Humidity, branch = Normal, max_ig = 0.0, visited = [True, False, True, False, False]\n",
      "max_ig_column = Temperature, parent = Outlook, branch = Overcast, max_ig = 0.0, visited = [True, False, False, False, False]\n",
      "max_ig_column = Wind, parent = Outlook, branch = Rain, max_ig = 0.42, visited = [True, False, False, False, False]\n",
      "max_ig_column = Temperature, parent = Wind, branch = Weak, max_ig = 0.0, visited = [True, False, False, True, False]\n",
      "max_ig_column = Temperature, parent = Wind, branch = Strong, max_ig = 0.25, visited = [True, False, False, True, False]\n",
      "max_ig_column = Humidity, parent = Temperature, branch = Cool, max_ig = 0.0, visited = [True, True, False, True, False]\n",
      "max_ig_column = Humidity, parent = Temperature, branch = Mild, max_ig = 1.0, visited = [True, True, False, True, False]\n"
     ]
    }
   ],
   "source": [
    "build_decision_tree(raw_data, visited=visited)"
   ]
  },
  {
   "cell_type": "code",
   "execution_count": 131,
   "metadata": {},
   "outputs": [
    {
     "data": {
      "text/plain": [
       "{'Outlook': [{'branch_name': 'Sunny',\n",
       "   'result': None,\n",
       "   'parent': 'Outlook',\n",
       "   'leads_to': 'Humidity'},\n",
       "  {'branch_name': 'Overcast',\n",
       "   'result': 'Yes',\n",
       "   'parent': 'Outlook',\n",
       "   'leads_to': 'Temperature'},\n",
       "  {'branch_name': 'Rain',\n",
       "   'result': None,\n",
       "   'parent': 'Outlook',\n",
       "   'leads_to': 'Wind'}],\n",
       " 'Humidity': [{'branch_name': 'High',\n",
       "   'result': 'No',\n",
       "   'parent': 'Humidity',\n",
       "   'leads_to': 'Temperature'},\n",
       "  {'branch_name': 'Normal',\n",
       "   'result': 'Yes',\n",
       "   'parent': 'Humidity',\n",
       "   'leads_to': 'Temperature'}],\n",
       " 'Wind': [{'branch_name': 'Weak',\n",
       "   'result': 'Yes',\n",
       "   'parent': 'Wind',\n",
       "   'leads_to': 'Temperature'},\n",
       "  {'branch_name': 'Strong',\n",
       "   'result': None,\n",
       "   'parent': 'Wind',\n",
       "   'leads_to': 'Temperature'}],\n",
       " 'Temperature': [{'branch_name': 'Cool',\n",
       "   'result': 'No',\n",
       "   'parent': 'Temperature',\n",
       "   'leads_to': 'Humidity'},\n",
       "  {'branch_name': 'Mild',\n",
       "   'result': None,\n",
       "   'parent': 'Temperature',\n",
       "   'leads_to': 'Humidity'}]}"
      ]
     },
     "execution_count": 131,
     "metadata": {},
     "output_type": "execute_result"
    }
   ],
   "source": [
    "decision_tree"
   ]
  },
  {
   "cell_type": "code",
   "execution_count": 132,
   "metadata": {},
   "outputs": [
    {
     "name": "stdout",
     "output_type": "stream",
     "text": [
      "root = Outlook\n"
     ]
    }
   ],
   "source": [
    "def find_root(decision_tree):\n",
    "    nodes_lead_to = set()\n",
    "    for edges in decision_tree.values():\n",
    "        for edge in edges:\n",
    "            if edge.get('leads_to'):\n",
    "                nodes_lead_to.add(edge.get('leads_to'))\n",
    "    for key in decision_tree.keys():\n",
    "        if key not in nodes_lead_to:\n",
    "            return key\n",
    "    return ''\n",
    "\n",
    "print(f'root = {find_root(decision_tree)}')"
   ]
  },
  {
   "cell_type": "code",
   "execution_count": 138,
   "metadata": {},
   "outputs": [
    {
     "name": "stdout",
     "output_type": "stream",
     "text": [
      "Yes\n"
     ]
    }
   ],
   "source": [
    "example = {'Outlook': 'Sunny', 'Wind': 'Strong', 'Temperature': 'Mild', 'Humidity': 'Normal'}\n",
    "root = find_root(decision_tree)\n",
    "def predict_for_one_example(decision_tree, root, example={}):\n",
    "    for branch_info in decision_tree[root]:\n",
    "        if branch_info.get('branch_name') == example[root]:\n",
    "            if branch_info.get('result'):\n",
    "                return branch_info.get('result')\n",
    "            root = branch_info.get('leads_to')\n",
    "    return predict_for_one_example(decision_tree, root, example)\n",
    "    \n",
    "print(predict_for_one_example(decision_tree, root, example))"
   ]
  },
  {
   "cell_type": "code",
   "execution_count": null,
   "metadata": {},
   "outputs": [],
   "source": []
  }
 ],
 "metadata": {
  "kernelspec": {
   "display_name": "Python 3",
   "language": "python",
   "name": "python3"
  },
  "language_info": {
   "codemirror_mode": {
    "name": "ipython",
    "version": 3
   },
   "file_extension": ".py",
   "mimetype": "text/x-python",
   "name": "python",
   "nbconvert_exporter": "python",
   "pygments_lexer": "ipython3",
   "version": "3.7.0"
  }
 },
 "nbformat": 4,
 "nbformat_minor": 2
}
